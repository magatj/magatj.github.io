{
 "cells": [
  {
   "cell_type": "markdown",
   "metadata": {},
   "source": [
    "## GRID Code"
   ]
  },
  {
   "cell_type": "code",
   "execution_count": 9,
   "metadata": {},
   "outputs": [
    {
     "name": "stdout",
     "output_type": "stream",
     "text": [
      "+-----+-----+-----+-----+-----+-----+\n",
      "|     |     |     |     |     |     |\n",
      "|     |     |     |     |     |     |\n",
      "|     |     |     |     |     |     |\n",
      "|     |     |     |     |     |     |\n",
      "|     |     |     |     |     |     |\n",
      "+-----+-----+-----+-----+-----+-----+\n",
      "|     |     |     |     |     |     |\n",
      "|     |     |     |     |     |     |\n",
      "|     |     |     |     |     |     |\n",
      "|     |     |     |     |     |     |\n",
      "|     |     |     |     |     |     |\n",
      "+-----+-----+-----+-----+-----+-----+\n",
      "|     |     |     |     |     |     |\n",
      "|     |     |     |     |     |     |\n",
      "|     |     |     |     |     |     |\n",
      "|     |     |     |     |     |     |\n",
      "|     |     |     |     |     |     |\n",
      "+-----+-----+-----+-----+-----+-----+\n",
      "|     |     |     |     |     |     |\n",
      "|     |     |     |     |     |     |\n",
      "|     |     |     |     |     |     |\n",
      "|     |     |     |     |     |     |\n",
      "|     |     |     |     |     |     |\n",
      "+-----+-----+-----+-----+-----+-----+\n",
      "|     |     |     |     |     |     |\n",
      "|     |     |     |     |     |     |\n",
      "|     |     |     |     |     |     |\n",
      "|     |     |     |     |     |     |\n",
      "|     |     |     |     |     |     |\n",
      "+-----+-----+-----+-----+-----+-----+\n"
     ]
    }
   ],
   "source": [
    "def hori(c,s):\n",
    "    for i in range(c):\n",
    "        print('+', end = '')\n",
    "        for j in range(s):\n",
    "            print('-', end ='')\n",
    "    print('+')\n",
    "    \n",
    "def verti(c,s):\n",
    "    for i in range(c):\n",
    "        print('|', end = '')\n",
    "        for j in range(s):\n",
    "            print(' ',end = '')\n",
    "    print('|')\n",
    "\n",
    "def grid(r,c,s):\n",
    "    for i in range(r):\n",
    "        hori(c,s)\n",
    "        for j in range(s):\n",
    "            verti(c,s)\n",
    "    hori(c,s)\n",
    "\n",
    "grid(5,6,5)"
   ]
  },
  {
   "cell_type": "code",
   "execution_count": null,
   "metadata": {},
   "outputs": [],
   "source": []
  }
 ],
 "metadata": {
  "kernelspec": {
   "display_name": "Python 3",
   "language": "python",
   "name": "python3"
  },
  "language_info": {
   "codemirror_mode": {
    "name": "ipython",
    "version": 3
   },
   "file_extension": ".py",
   "mimetype": "text/x-python",
   "name": "python",
   "nbconvert_exporter": "python",
   "pygments_lexer": "ipython3",
   "version": "3.7.1"
  }
 },
 "nbformat": 4,
 "nbformat_minor": 2
}
