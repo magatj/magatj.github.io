{
 "cells": [
  {
   "cell_type": "code",
   "execution_count": 7,
   "metadata": {},
   "outputs": [
    {
     "name": "stdout",
     "output_type": "stream",
     "text": [
      "Collecting sphinxcontrib-programoutput\n",
      "  Downloading https://files.pythonhosted.org/packages/53/af/a182c20b343c14adb1e9b98e3b5cec58ba61e3e00156dd7195775df0d094/sphinxcontrib_programoutput-0.16-py2.py3-none-any.whl\n",
      "Requirement already satisfied: Sphinx>=1.7.0 in c:\\programdata\\anaconda3\\lib\\site-packages (from sphinxcontrib-programoutput) (1.8.2)\n",
      "Requirement already satisfied: six>=1.5 in c:\\programdata\\anaconda3\\lib\\site-packages (from Sphinx>=1.7.0->sphinxcontrib-programoutput) (1.12.0)\n",
      "Requirement already satisfied: Jinja2>=2.3 in c:\\programdata\\anaconda3\\lib\\site-packages (from Sphinx>=1.7.0->sphinxcontrib-programoutput) (2.10)\n",
      "Requirement already satisfied: Pygments>=2.0 in c:\\programdata\\anaconda3\\lib\\site-packages (from Sphinx>=1.7.0->sphinxcontrib-programoutput) (2.3.1)\n",
      "Requirement already satisfied: docutils>=0.11 in c:\\programdata\\anaconda3\\lib\\site-packages (from Sphinx>=1.7.0->sphinxcontrib-programoutput) (0.14)\n",
      "Requirement already satisfied: snowballstemmer>=1.1 in c:\\programdata\\anaconda3\\lib\\site-packages (from Sphinx>=1.7.0->sphinxcontrib-programoutput) (1.2.1)\n",
      "Requirement already satisfied: babel!=2.0,>=1.3 in c:\\programdata\\anaconda3\\lib\\site-packages (from Sphinx>=1.7.0->sphinxcontrib-programoutput) (2.6.0)\n",
      "Requirement already satisfied: alabaster<0.8,>=0.7 in c:\\programdata\\anaconda3\\lib\\site-packages (from Sphinx>=1.7.0->sphinxcontrib-programoutput) (0.7.12)\n",
      "Requirement already satisfied: imagesize in c:\\programdata\\anaconda3\\lib\\site-packages (from Sphinx>=1.7.0->sphinxcontrib-programoutput) (1.1.0)\n",
      "Requirement already satisfied: requests>=2.0.0 in c:\\programdata\\anaconda3\\lib\\site-packages (from Sphinx>=1.7.0->sphinxcontrib-programoutput) (2.21.0)\n",
      "Requirement already satisfied: setuptools in c:\\programdata\\anaconda3\\lib\\site-packages (from Sphinx>=1.7.0->sphinxcontrib-programoutput) (40.6.3)\n",
      "Requirement already satisfied: packaging in c:\\programdata\\anaconda3\\lib\\site-packages (from Sphinx>=1.7.0->sphinxcontrib-programoutput) (18.0)\n",
      "Requirement already satisfied: sphinxcontrib-websupport in c:\\programdata\\anaconda3\\lib\\site-packages (from Sphinx>=1.7.0->sphinxcontrib-programoutput) (1.1.0)\n",
      "Requirement already satisfied: colorama>=0.3.5 in c:\\programdata\\anaconda3\\lib\\site-packages (from Sphinx>=1.7.0->sphinxcontrib-programoutput) (0.4.1)\n",
      "Requirement already satisfied: MarkupSafe>=0.23 in c:\\programdata\\anaconda3\\lib\\site-packages (from Jinja2>=2.3->Sphinx>=1.7.0->sphinxcontrib-programoutput) (1.1.0)\n",
      "Requirement already satisfied: pytz>=0a in c:\\programdata\\anaconda3\\lib\\site-packages (from babel!=2.0,>=1.3->Sphinx>=1.7.0->sphinxcontrib-programoutput) (2018.7)\n",
      "Requirement already satisfied: idna<2.9,>=2.5 in c:\\programdata\\anaconda3\\lib\\site-packages (from requests>=2.0.0->Sphinx>=1.7.0->sphinxcontrib-programoutput) (2.8)\n",
      "Requirement already satisfied: chardet<3.1.0,>=3.0.2 in c:\\programdata\\anaconda3\\lib\\site-packages (from requests>=2.0.0->Sphinx>=1.7.0->sphinxcontrib-programoutput) (3.0.4)\n",
      "Requirement already satisfied: urllib3<1.25,>=1.21.1 in c:\\programdata\\anaconda3\\lib\\site-packages (from requests>=2.0.0->Sphinx>=1.7.0->sphinxcontrib-programoutput) (1.24.1)\n",
      "Requirement already satisfied: certifi>=2017.4.17 in c:\\programdata\\anaconda3\\lib\\site-packages (from requests>=2.0.0->Sphinx>=1.7.0->sphinxcontrib-programoutput) (2020.6.20)\n",
      "Requirement already satisfied: pyparsing>=2.0.2 in c:\\programdata\\anaconda3\\lib\\site-packages (from packaging->Sphinx>=1.7.0->sphinxcontrib-programoutput) (2.3.0)\n",
      "Installing collected packages: sphinxcontrib-programoutput\n",
      "Successfully installed sphinxcontrib-programoutput-0.16\n"
     ]
    }
   ],
   "source": [
    "!pip install sphinxcontrib-programoutput\n"
   ]
  },
  {
   "cell_type": "code",
   "execution_count": null,
   "metadata": {},
   "outputs": [],
   "source": []
  }
 ],
 "metadata": {
  "kernelspec": {
   "display_name": "Python 3",
   "language": "python",
   "name": "python3"
  },
  "language_info": {
   "codemirror_mode": {
    "name": "ipython",
    "version": 3
   },
   "file_extension": ".py",
   "mimetype": "text/x-python",
   "name": "python",
   "nbconvert_exporter": "python",
   "pygments_lexer": "ipython3",
   "version": "3.7.1"
  }
 },
 "nbformat": 4,
 "nbformat_minor": 2
}
